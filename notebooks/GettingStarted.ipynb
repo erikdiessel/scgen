{
 "cells": [
  {
   "cell_type": "markdown",
   "metadata": {},
   "source": [
    "# Importing scgen\n",
    "First we need to import scgen (we use here a relative path)"
   ]
  },
  {
   "cell_type": "code",
   "execution_count": 6,
   "metadata": {},
   "outputs": [],
   "source": [
    "import sys\n",
    "import os\n",
    "\n",
    "sys.path.append(os.path.abspath(os.path.join('..')))\n",
    "from scgen.main.DefaultGeneratorFactory import DefaultGeneratorFactory"
   ]
  },
  {
   "cell_type": "markdown",
   "metadata": {},
   "source": [
    "# Specifying a configuration for generation\n",
    "We create a JSON-string that specifies the parameters of the random generation of the supply chain."
   ]
  },
  {
   "cell_type": "code",
   "execution_count": 15,
   "metadata": {},
   "outputs": [],
   "source": [
    "configuration = \\\n",
    "\"\"\"{\n",
    "    \"elements\": [\n",
    "        {\n",
    "            \"type\": \"suppliers\",\n",
    "            \"count\": 4\n",
    "        },\n",
    "        {\n",
    "            \"type\": \"plants\",\n",
    "            \"count\": 3\n",
    "        }\n",
    "    ],\n",
    "    \"modules\": [\n",
    "        {\n",
    "            \"type\": \"arc\",\n",
    "            \"fromElements\": [ \"suppliers\" ],\n",
    "            \"toElements\": [ \"plants\" ],\n",
    "            \"distributions\":  \"default\"\n",
    "        },\n",
    "\n",
    "        {\n",
    "            \"type\": \"demand\",\n",
    "            \"forElements\": [ \"plants\" ],\n",
    "            \"distributions\": [\n",
    "                {\n",
    "                    \"dependingOnElements\": [ \"plants\" ],\n",
    "                    \"type\": \"uniform\",\n",
    "                    \"min\": 10.0,\n",
    "                    \"max\": 10.0\n",
    "                }\n",
    "            ]\n",
    "        },\n",
    "        {\n",
    "            \"type\": \"allocation\",\n",
    "            \"forElements\": [ \"suppliers\", \"plants\" ],\n",
    "            \"distributions\": [\n",
    "                {\n",
    "                    \"dependingOnElements\": [ \"suppliers\" ],\n",
    "                    \"type\": \"uniform\",\n",
    "                    \"min\": 0.0,\n",
    "                    \"max\": 1.0\n",
    "                }\n",
    "\n",
    "            ]\n",
    "        }\n",
    "    ]\n",
    "}\"\"\""
   ]
  },
  {
   "cell_type": "markdown",
   "metadata": {},
   "source": [
    "# Generating a supply chain\n",
    "Using the above configuration, we now generate the supply chain."
   ]
  },
  {
   "cell_type": "code",
   "execution_count": 16,
   "metadata": {},
   "outputs": [
    {
     "name": "stdout",
     "output_type": "stream",
     "text": [
      "{\"elements\": {\"suppliers\": [{\"suppliers\": \"supplier_1\"}, {\"suppliers\": \"supplier_2\"}, {\"suppliers\": \"supplier_3\"}, {\"suppliers\": \"supplier_4\"}], \"plants\": [{\"plants\": \"plant_1\"}, {\"plants\": \"plant_2\"}, {\"plants\": \"plant_3\"}]}, \"modules\": {\"arc\": [{\"suppliers\": \"supplier_1\", \"plants\": \"plant_1\", \"existing\": 1}, {\"suppliers\": \"supplier_1\", \"plants\": \"plant_2\", \"existing\": 1}, {\"suppliers\": \"supplier_1\", \"plants\": \"plant_3\", \"existing\": 1}, {\"suppliers\": \"supplier_2\", \"plants\": \"plant_1\", \"existing\": 1}, {\"suppliers\": \"supplier_2\", \"plants\": \"plant_2\", \"existing\": 1}, {\"suppliers\": \"supplier_2\", \"plants\": \"plant_3\", \"existing\": 1}, {\"suppliers\": \"supplier_3\", \"plants\": \"plant_1\", \"existing\": 1}, {\"suppliers\": \"supplier_3\", \"plants\": \"plant_2\", \"existing\": 1}, {\"suppliers\": \"supplier_3\", \"plants\": \"plant_3\", \"existing\": 1}, {\"suppliers\": \"supplier_4\", \"plants\": \"plant_1\", \"existing\": 1}, {\"suppliers\": \"supplier_4\", \"plants\": \"plant_2\", \"existing\": 1}, {\"suppliers\": \"supplier_4\", \"plants\": \"plant_3\", \"existing\": 1}], \"demand\": [{\"plants\": \"plant_1\", \"demand\": 10.0}, {\"plants\": \"plant_2\", \"demand\": 10.0}, {\"plants\": \"plant_3\", \"demand\": 10.0}], \"allocation\": [{\"suppliers\": \"supplier_1\", \"plants\": \"plant_1\", \"allocation\": 2.4203361376}, {\"suppliers\": \"supplier_2\", \"plants\": \"plant_1\", \"allocation\": 2.5202311274}, {\"suppliers\": \"supplier_3\", \"plants\": \"plant_1\", \"allocation\": 2.0460211701}, {\"suppliers\": \"supplier_4\", \"plants\": \"plant_1\", \"allocation\": 3.0134115649}, {\"suppliers\": \"supplier_1\", \"plants\": \"plant_2\", \"allocation\": 2.4203361376}, {\"suppliers\": \"supplier_2\", \"plants\": \"plant_2\", \"allocation\": 2.5202311274}, {\"suppliers\": \"supplier_3\", \"plants\": \"plant_2\", \"allocation\": 2.0460211701}, {\"suppliers\": \"supplier_4\", \"plants\": \"plant_2\", \"allocation\": 3.0134115649}, {\"suppliers\": \"supplier_1\", \"plants\": \"plant_3\", \"allocation\": 2.4203361376}, {\"suppliers\": \"supplier_2\", \"plants\": \"plant_3\", \"allocation\": 2.5202311274}, {\"suppliers\": \"supplier_3\", \"plants\": \"plant_3\", \"allocation\": 2.0460211701}, {\"suppliers\": \"supplier_4\", \"plants\": \"plant_3\", \"allocation\": 3.0134115649}]}}\n"
     ]
    }
   ],
   "source": [
    "import json\n",
    "\n",
    "gen = DefaultGeneratorFactory.getDefaultGenerator()\n",
    "gen.generate(json.loads(configuration))\n",
    "output = gen.output().getJson()\n",
    "print(output)"
   ]
  },
  {
   "cell_type": "code",
   "execution_count": null,
   "metadata": {},
   "outputs": [],
   "source": []
  }
 ],
 "metadata": {
  "kernelspec": {
   "display_name": "Python 3",
   "language": "python",
   "name": "python3"
  },
  "language_info": {
   "codemirror_mode": {
    "name": "ipython",
    "version": 3
   },
   "file_extension": ".py",
   "mimetype": "text/x-python",
   "name": "python",
   "nbconvert_exporter": "python",
   "pygments_lexer": "ipython3",
   "version": "3.7.8"
  }
 },
 "nbformat": 4,
 "nbformat_minor": 4
}
